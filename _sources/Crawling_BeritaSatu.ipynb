{
  "nbformat": 4,
  "nbformat_minor": 0,
  "metadata": {
    "colab": {
      "provenance": []
    },
    "kernelspec": {
      "name": "python3",
      "display_name": "Python 3"
    },
    "language_info": {
      "name": "python"
    }
  },
  "cells": [
    {
      "cell_type": "markdown",
      "source": [
        "### Crawling Berita"
      ],
      "metadata": {
        "id": "tg3E54VyTUR4"
      }
    },
    {
      "cell_type": "markdown",
      "source": [
        "Crawling berita adalah proses mengambil atau mengekstrak informasi berita dari situs web secara otomatis dengan menggunakan bot atau skrip komputer. Tujuan dari crawling berita adalah untuk mengumpulkan data berita dari berbagai sumber secara efisien, terstruktur, dan otomatis."
      ],
      "metadata": {
        "id": "2NE8x-dLTYeA"
      }
    },
    {
      "cell_type": "markdown",
      "source": [
        "## Import Drive"
      ],
      "metadata": {
        "id": "Jv2Zhiy9TjV9"
      }
    },
    {
      "cell_type": "markdown",
      "source": [
        "Fungsi drive.mount('/content/drive') ini memberikan akses ke Google Drive Anda dalam lingkungan Google Colab, dan direktori Drive akan muncul di lokasi yang disebutkan, yaitu /content/drive. Ini memungkinkan kita menyimpan dan mengakses file langsung dari atau ke Google Drive selama sesi Colab."
      ],
      "metadata": {
        "id": "0oIA3JsgTtl0"
      }
    },
    {
      "cell_type": "code",
      "source": [
        "from google.colab import drive\n",
        "drive.mount('/content/drive')"
      ],
      "metadata": {
        "colab": {
          "base_uri": "https://localhost:8080/"
        },
        "id": "cMYdMB6l8k10",
        "outputId": "35fa4e44-a135-4f8c-ef10-6755239aadf7"
      },
      "execution_count": 1,
      "outputs": [
        {
          "output_type": "stream",
          "name": "stdout",
          "text": [
            "Mounted at /content/drive\n"
          ]
        }
      ]
    },
    {
      "cell_type": "markdown",
      "source": [
        "## Import Library"
      ],
      "metadata": {
        "id": "fMknWVetT5Jv"
      }
    },
    {
      "cell_type": "markdown",
      "source": [
        "1. requests: Library untuk mengirim permintaan HTTP dan menerima respons. Dengan menggunakan requests, Anda dapat mengambil konten dari suatu URL.\n",
        "\n",
        "2. BeautifulSoup (bs4): Library untuk scraping data dari HTML dan XML. BeautifulSoup mempermudah ekstraksi informasi dari halaman web dengan menyediakan antarmuka Python yang bersih.\n",
        "\n",
        "3. csv: Library untuk membaca dan menulis file CSV. Dengan menggunakan csv, Anda dapat menyimpan atau memuat data dalam format CSV.\n",
        "\n",
        "4. pandas: Library untuk analisis data dan manipulasi data. pandas menyediakan struktur data seperti DataFrame, yang memudahkan pengolahan dan analisis data.\n",
        "\n",
        "\n",
        "\n",
        "\n"
      ],
      "metadata": {
        "id": "XupDh8c1UB58"
      }
    },
    {
      "cell_type": "code",
      "execution_count": 2,
      "metadata": {
        "id": "m-U9LU2Xy71p"
      },
      "outputs": [],
      "source": [
        "import requests\n",
        "from bs4 import BeautifulSoup\n",
        "import csv\n",
        "import pandas as pd\n"
      ]
    },
    {
      "cell_type": "markdown",
      "source": [
        "Menentukan kategori apa saja yang ingin di crawling dan jumlah data per kategorinya"
      ],
      "metadata": {
        "id": "7wwfDuMpVIPq"
      }
    },
    {
      "cell_type": "code",
      "source": [
        "# Daftar kategori yang dapat diisi custom sesuai kebutuhan\n",
        "kategori = ['Pemilu', 'Sport', 'Lifestyle']\n",
        "\n",
        "# Jumlah data yang diambil per kategori\n",
        "jumlah_data_per_kategori = 300"
      ],
      "metadata": {
        "id": "eyhXV1nBVFkr"
      },
      "execution_count": 3,
      "outputs": []
    },
    {
      "cell_type": "markdown",
      "source": [
        "## Proses Crawling Berita"
      ],
      "metadata": {
        "id": "chCQN6V1VWgB"
      }
    },
    {
      "cell_type": "markdown",
      "source": [
        "1. data_list = [] digunakan untuk menyimpan data berita sebelum dimasukkan ke dalam DataFrame\n",
        "\n",
        "2. Looping Kategori dan Halaman\n",
        "\n",
        "  - #Looping pertama : untuk mengiterasi melalui setiap kategori dan halaman pencarian situs berita\n",
        "\n",
        "  - #Akses dan scraping halaman pencarian : Kode ini mengakses halaman pencarian, mengambil HTML-nya, dan menggunakan BeautifulSoup untuk mengekstrak elemen-elemen yang mengandung berita.\n",
        "\n",
        "  - #Looping untuk setiap berita dalam halaman tertentu : ini mengiterasi melalui setiap elemen berita pada halaman dan mengekstrak judul, tanggal, dan link berita.\n",
        "\n",
        "  - #Looping link berita untuk diambil data kontennya : ini mengakses link berita untuk mendapatkan konten berita.\n",
        "\n",
        "  - #Menambahkan data ke dalam list : Setiap data berita yang telah diambil disimpan dalam bentuk dictionary dan ditambahkan ke dalam list data_list.\n",
        "\n",
        "  - #Membuat dataframe dari list data : List data kemudian digunakan untuk membuat DataFrame menggunakan pandas, dan DataFrame tersebut disimpan ke dalam file CSV dengan path lokal.\n",
        "\n",
        "  -\n"
      ],
      "metadata": {
        "id": "qvyFB5P7Vrrp"
      }
    },
    {
      "cell_type": "code",
      "source": [
        "# List untuk menyimpan data\n",
        "data_list = []\n",
        "\n",
        "## Looping 1\n",
        "# Looping untuk setiap kategori\n",
        "for kategori_terpilih in kategori:\n",
        "    katakunci = kategori_terpilih\n",
        "    # Looping untuk setiap halaman\n",
        "    for halaman in range(1, jumlah_data_per_kategori // 20 + 1):  # 20 berita per halaman\n",
        "        ##Akses dan scraping halaman pencarian\n",
        "        url = \"https://www.beritasatu.com/search/{}/{}\".format(katakunci, halaman)\n",
        "        headers = {\n",
        "            'User-Agent': 'Mozilla/5.0 (Windows NT 10.0; Win64; x64; rv:109.0) Gecko/20100101 Firefox/119.0'\n",
        "        }\n",
        "        req = requests.get(url, headers=headers)\n",
        "        soup = BeautifulSoup(req.text, 'html.parser')\n",
        "        items = soup.findAll('div', 'row mt-4 position-relative')\n",
        "\n",
        "        ## Looping untuk setiap berita dalam halaman tertentu\n",
        "        for it in items:\n",
        "            # Looping judul\n",
        "            judul = it.find('h2', 'h5 fw-bold').text.strip()\n",
        "            # Looping tanggal berita\n",
        "            tanggal_tag = it.find('span', 'b1-date text-muted')\n",
        "            tanggal = ''\n",
        "            if tanggal_tag:\n",
        "                tanggal = ' '.join(tanggal_tag.text.strip().split('\\n'))\n",
        "\n",
        "            ## Looping link berita untuk diambil data kontennya\n",
        "            link = it.find('a', 'stretched-link')\n",
        "            if link:\n",
        "                href = link.get('href')\n",
        "                response = requests.get(href, headers=headers)\n",
        "                berita_soup = BeautifulSoup(response.text, 'html.parser')\n",
        "                #Looping untuk konten berita jika link bisa diakses\n",
        "                konten_tag = berita_soup.find('div', 'col b1-article body-content')\n",
        "                konten = ''\n",
        "                if konten_tag:\n",
        "                    konten = konten_tag.text.strip()\n",
        "\n",
        "                ## Menambahkan data ke dalam list\n",
        "                data_list.append({'Kategori': katakunci, 'Judul': judul, 'Tanggal': tanggal, 'Link': href, 'Konten': konten})\n",
        "\n",
        "## Membuat dataframe dari list data\n",
        "df = pd.DataFrame(data_list)\n",
        "\n",
        "# Menyimpan dataframe ke dalam file CSV dengan path lokal\n",
        "file_path = 'Crawling-DataBerita.csv'\n",
        "df.to_csv(file_path, index=False)\n",
        "\n",
        "print(\"Pengambilan data selesai.\")"
      ],
      "metadata": {
        "colab": {
          "base_uri": "https://localhost:8080/"
        },
        "id": "uQYrN-WE3H6u",
        "outputId": "5d3e9ff2-280c-4389-e2a7-ff33683831e1"
      },
      "execution_count": 4,
      "outputs": [
        {
          "output_type": "stream",
          "name": "stdout",
          "text": [
            "Pengambilan data selesai.\n"
          ]
        }
      ]
    },
    {
      "cell_type": "markdown",
      "source": [
        "## Menampilkan Data yang berhasil di Crawling"
      ],
      "metadata": {
        "id": "3DJ8kTYRbkbx"
      }
    },
    {
      "cell_type": "code",
      "source": [
        "df"
      ],
      "metadata": {
        "colab": {
          "base_uri": "https://localhost:8080/",
          "height": 597
        },
        "id": "8VxfZ2186PtG",
        "outputId": "634bd617-c2e4-46e5-9451-1668668e6ec4"
      },
      "execution_count": 5,
      "outputs": [
        {
          "output_type": "execute_result",
          "data": {
            "text/plain": [
              "      Kategori                                              Judul  \\\n",
              "0       Pemilu  Fakta Safari Politik Prabowo-Gibran Sepekan Te...   \n",
              "1       Pemilu  Menggali Informasi Pemilu 2024, Kemenkominfo R...   \n",
              "2       Pemilu  Pemprov Jawa Barat Merespons Cepat Keluhan Pan...   \n",
              "3       Pemilu  Warga Muslim AS Bikin Kampanye Tolak Joe Biden...   \n",
              "4       Pemilu          Melanjutkan Visi Indonesia Bebas Stunting   \n",
              "..         ...                                                ...   \n",
              "895  Lifestyle  Topping Off 31 Sudirman Suites, Ikon Baru Huni...   \n",
              "896  Lifestyle  Indoesports Siap Akuisisi Media Rintisan pada ...   \n",
              "897  Lifestyle    Traveloka Resmi Terhubung dengan PeduliLindungi   \n",
              "898  Lifestyle  Stimulus Pemerintah Dorong Penjualan Grand Wis...   \n",
              "899  Lifestyle  Adaptif terhadap Perkembangan, Millie Lukito T...   \n",
              "\n",
              "                     Tanggal  \\\n",
              "0            4 jam yang lalu   \n",
              "1            5 jam yang lalu   \n",
              "2            7 jam yang lalu   \n",
              "3            8 jam yang lalu   \n",
              "4            8 jam yang lalu   \n",
              "..                       ...   \n",
              "895  17 Nov 2021 | 18:17 WIB   \n",
              "896  17 Nov 2021 | 11:49 WIB   \n",
              "897  15 Nov 2021 | 22:38 WIB   \n",
              "898  14 Nov 2021 | 14:14 WIB   \n",
              "899  13 Nov 2021 | 20:27 WIB   \n",
              "\n",
              "                                                  Link  \\\n",
              "0    https://www.beritasatu.com/bersatu-kawal-pemil...   \n",
              "1    https://www.beritasatu.com/bersatu-kawal-pemil...   \n",
              "2    https://www.beritasatu.com/nusantara/2784928/p...   \n",
              "3    https://www.beritasatu.com/internasional/27849...   \n",
              "4    https://www.beritasatu.com/bplus/2784912/melan...   \n",
              "..                                                 ...   \n",
              "895  https://www.beritasatu.com/ekonomi/855155/topp...   \n",
              "896  https://www.beritasatu.com/news/854965/indoesp...   \n",
              "897  https://www.beritasatu.com/news/854325/travelo...   \n",
              "898  https://www.beritasatu.com/ekonomi/853715/stim...   \n",
              "899  https://www.beritasatu.com/ekonomi/853547/adap...   \n",
              "\n",
              "                                                Konten  \n",
              "0    Jakarta, Beritasatu.com - Jadwal kampanye Pilp...  \n",
              "1    Jakarta, Beritasatu.com - Kementerian Komunika...  \n",
              "2    Bandung, Beritasatu.com - Pemerintah Daerah Pr...  \n",
              "3    Washington, Beritasatu.com – Para pemimpin mus...  \n",
              "4    Jakarta, Beritasatu.com - Percepatan penurunan...  \n",
              "..                                                 ...  \n",
              "895  Makassar, Beritasatu.com – PT Indonesian Parad...  \n",
              "896  Jakarta, Beritasatu.com - PT Indoesports Karya...  \n",
              "897  Jakarta, Beritasatu.com - Traveloka, lifestyle...  \n",
              "898  Bekasi, Beritasatu.com - Grand Wisata Bekasi b...  \n",
              "899  Jakarta, Beritasatu.com - Mengawali bisnis di ...  \n",
              "\n",
              "[900 rows x 5 columns]"
            ],
            "text/html": [
              "\n",
              "  <div id=\"df-8b7d9cd0-cf48-4502-a114-4c55bc402d79\" class=\"colab-df-container\">\n",
              "    <div>\n",
              "<style scoped>\n",
              "    .dataframe tbody tr th:only-of-type {\n",
              "        vertical-align: middle;\n",
              "    }\n",
              "\n",
              "    .dataframe tbody tr th {\n",
              "        vertical-align: top;\n",
              "    }\n",
              "\n",
              "    .dataframe thead th {\n",
              "        text-align: right;\n",
              "    }\n",
              "</style>\n",
              "<table border=\"1\" class=\"dataframe\">\n",
              "  <thead>\n",
              "    <tr style=\"text-align: right;\">\n",
              "      <th></th>\n",
              "      <th>Kategori</th>\n",
              "      <th>Judul</th>\n",
              "      <th>Tanggal</th>\n",
              "      <th>Link</th>\n",
              "      <th>Konten</th>\n",
              "    </tr>\n",
              "  </thead>\n",
              "  <tbody>\n",
              "    <tr>\n",
              "      <th>0</th>\n",
              "      <td>Pemilu</td>\n",
              "      <td>Fakta Safari Politik Prabowo-Gibran Sepekan Te...</td>\n",
              "      <td>4 jam yang lalu</td>\n",
              "      <td>https://www.beritasatu.com/bersatu-kawal-pemil...</td>\n",
              "      <td>Jakarta, Beritasatu.com - Jadwal kampanye Pilp...</td>\n",
              "    </tr>\n",
              "    <tr>\n",
              "      <th>1</th>\n",
              "      <td>Pemilu</td>\n",
              "      <td>Menggali Informasi Pemilu 2024, Kemenkominfo R...</td>\n",
              "      <td>5 jam yang lalu</td>\n",
              "      <td>https://www.beritasatu.com/bersatu-kawal-pemil...</td>\n",
              "      <td>Jakarta, Beritasatu.com - Kementerian Komunika...</td>\n",
              "    </tr>\n",
              "    <tr>\n",
              "      <th>2</th>\n",
              "      <td>Pemilu</td>\n",
              "      <td>Pemprov Jawa Barat Merespons Cepat Keluhan Pan...</td>\n",
              "      <td>7 jam yang lalu</td>\n",
              "      <td>https://www.beritasatu.com/nusantara/2784928/p...</td>\n",
              "      <td>Bandung, Beritasatu.com - Pemerintah Daerah Pr...</td>\n",
              "    </tr>\n",
              "    <tr>\n",
              "      <th>3</th>\n",
              "      <td>Pemilu</td>\n",
              "      <td>Warga Muslim AS Bikin Kampanye Tolak Joe Biden...</td>\n",
              "      <td>8 jam yang lalu</td>\n",
              "      <td>https://www.beritasatu.com/internasional/27849...</td>\n",
              "      <td>Washington, Beritasatu.com – Para pemimpin mus...</td>\n",
              "    </tr>\n",
              "    <tr>\n",
              "      <th>4</th>\n",
              "      <td>Pemilu</td>\n",
              "      <td>Melanjutkan Visi Indonesia Bebas Stunting</td>\n",
              "      <td>8 jam yang lalu</td>\n",
              "      <td>https://www.beritasatu.com/bplus/2784912/melan...</td>\n",
              "      <td>Jakarta, Beritasatu.com - Percepatan penurunan...</td>\n",
              "    </tr>\n",
              "    <tr>\n",
              "      <th>...</th>\n",
              "      <td>...</td>\n",
              "      <td>...</td>\n",
              "      <td>...</td>\n",
              "      <td>...</td>\n",
              "      <td>...</td>\n",
              "    </tr>\n",
              "    <tr>\n",
              "      <th>895</th>\n",
              "      <td>Lifestyle</td>\n",
              "      <td>Topping Off 31 Sudirman Suites, Ikon Baru Huni...</td>\n",
              "      <td>17 Nov 2021 | 18:17 WIB</td>\n",
              "      <td>https://www.beritasatu.com/ekonomi/855155/topp...</td>\n",
              "      <td>Makassar, Beritasatu.com – PT Indonesian Parad...</td>\n",
              "    </tr>\n",
              "    <tr>\n",
              "      <th>896</th>\n",
              "      <td>Lifestyle</td>\n",
              "      <td>Indoesports Siap Akuisisi Media Rintisan pada ...</td>\n",
              "      <td>17 Nov 2021 | 11:49 WIB</td>\n",
              "      <td>https://www.beritasatu.com/news/854965/indoesp...</td>\n",
              "      <td>Jakarta, Beritasatu.com - PT Indoesports Karya...</td>\n",
              "    </tr>\n",
              "    <tr>\n",
              "      <th>897</th>\n",
              "      <td>Lifestyle</td>\n",
              "      <td>Traveloka Resmi Terhubung dengan PeduliLindungi</td>\n",
              "      <td>15 Nov 2021 | 22:38 WIB</td>\n",
              "      <td>https://www.beritasatu.com/news/854325/travelo...</td>\n",
              "      <td>Jakarta, Beritasatu.com - Traveloka, lifestyle...</td>\n",
              "    </tr>\n",
              "    <tr>\n",
              "      <th>898</th>\n",
              "      <td>Lifestyle</td>\n",
              "      <td>Stimulus Pemerintah Dorong Penjualan Grand Wis...</td>\n",
              "      <td>14 Nov 2021 | 14:14 WIB</td>\n",
              "      <td>https://www.beritasatu.com/ekonomi/853715/stim...</td>\n",
              "      <td>Bekasi, Beritasatu.com - Grand Wisata Bekasi b...</td>\n",
              "    </tr>\n",
              "    <tr>\n",
              "      <th>899</th>\n",
              "      <td>Lifestyle</td>\n",
              "      <td>Adaptif terhadap Perkembangan, Millie Lukito T...</td>\n",
              "      <td>13 Nov 2021 | 20:27 WIB</td>\n",
              "      <td>https://www.beritasatu.com/ekonomi/853547/adap...</td>\n",
              "      <td>Jakarta, Beritasatu.com - Mengawali bisnis di ...</td>\n",
              "    </tr>\n",
              "  </tbody>\n",
              "</table>\n",
              "<p>900 rows × 5 columns</p>\n",
              "</div>\n",
              "    <div class=\"colab-df-buttons\">\n",
              "\n",
              "  <div class=\"colab-df-container\">\n",
              "    <button class=\"colab-df-convert\" onclick=\"convertToInteractive('df-8b7d9cd0-cf48-4502-a114-4c55bc402d79')\"\n",
              "            title=\"Convert this dataframe to an interactive table.\"\n",
              "            style=\"display:none;\">\n",
              "\n",
              "  <svg xmlns=\"http://www.w3.org/2000/svg\" height=\"24px\" viewBox=\"0 -960 960 960\">\n",
              "    <path d=\"M120-120v-720h720v720H120Zm60-500h600v-160H180v160Zm220 220h160v-160H400v160Zm0 220h160v-160H400v160ZM180-400h160v-160H180v160Zm440 0h160v-160H620v160ZM180-180h160v-160H180v160Zm440 0h160v-160H620v160Z\"/>\n",
              "  </svg>\n",
              "    </button>\n",
              "\n",
              "  <style>\n",
              "    .colab-df-container {\n",
              "      display:flex;\n",
              "      gap: 12px;\n",
              "    }\n",
              "\n",
              "    .colab-df-convert {\n",
              "      background-color: #E8F0FE;\n",
              "      border: none;\n",
              "      border-radius: 50%;\n",
              "      cursor: pointer;\n",
              "      display: none;\n",
              "      fill: #1967D2;\n",
              "      height: 32px;\n",
              "      padding: 0 0 0 0;\n",
              "      width: 32px;\n",
              "    }\n",
              "\n",
              "    .colab-df-convert:hover {\n",
              "      background-color: #E2EBFA;\n",
              "      box-shadow: 0px 1px 2px rgba(60, 64, 67, 0.3), 0px 1px 3px 1px rgba(60, 64, 67, 0.15);\n",
              "      fill: #174EA6;\n",
              "    }\n",
              "\n",
              "    .colab-df-buttons div {\n",
              "      margin-bottom: 4px;\n",
              "    }\n",
              "\n",
              "    [theme=dark] .colab-df-convert {\n",
              "      background-color: #3B4455;\n",
              "      fill: #D2E3FC;\n",
              "    }\n",
              "\n",
              "    [theme=dark] .colab-df-convert:hover {\n",
              "      background-color: #434B5C;\n",
              "      box-shadow: 0px 1px 3px 1px rgba(0, 0, 0, 0.15);\n",
              "      filter: drop-shadow(0px 1px 2px rgba(0, 0, 0, 0.3));\n",
              "      fill: #FFFFFF;\n",
              "    }\n",
              "  </style>\n",
              "\n",
              "    <script>\n",
              "      const buttonEl =\n",
              "        document.querySelector('#df-8b7d9cd0-cf48-4502-a114-4c55bc402d79 button.colab-df-convert');\n",
              "      buttonEl.style.display =\n",
              "        google.colab.kernel.accessAllowed ? 'block' : 'none';\n",
              "\n",
              "      async function convertToInteractive(key) {\n",
              "        const element = document.querySelector('#df-8b7d9cd0-cf48-4502-a114-4c55bc402d79');\n",
              "        const dataTable =\n",
              "          await google.colab.kernel.invokeFunction('convertToInteractive',\n",
              "                                                    [key], {});\n",
              "        if (!dataTable) return;\n",
              "\n",
              "        const docLinkHtml = 'Like what you see? Visit the ' +\n",
              "          '<a target=\"_blank\" href=https://colab.research.google.com/notebooks/data_table.ipynb>data table notebook</a>'\n",
              "          + ' to learn more about interactive tables.';\n",
              "        element.innerHTML = '';\n",
              "        dataTable['output_type'] = 'display_data';\n",
              "        await google.colab.output.renderOutput(dataTable, element);\n",
              "        const docLink = document.createElement('div');\n",
              "        docLink.innerHTML = docLinkHtml;\n",
              "        element.appendChild(docLink);\n",
              "      }\n",
              "    </script>\n",
              "  </div>\n",
              "\n",
              "\n",
              "<div id=\"df-40879b84-bce1-4d8d-8659-e1b34702a76c\">\n",
              "  <button class=\"colab-df-quickchart\" onclick=\"quickchart('df-40879b84-bce1-4d8d-8659-e1b34702a76c')\"\n",
              "            title=\"Suggest charts\"\n",
              "            style=\"display:none;\">\n",
              "\n",
              "<svg xmlns=\"http://www.w3.org/2000/svg\" height=\"24px\"viewBox=\"0 0 24 24\"\n",
              "     width=\"24px\">\n",
              "    <g>\n",
              "        <path d=\"M19 3H5c-1.1 0-2 .9-2 2v14c0 1.1.9 2 2 2h14c1.1 0 2-.9 2-2V5c0-1.1-.9-2-2-2zM9 17H7v-7h2v7zm4 0h-2V7h2v10zm4 0h-2v-4h2v4z\"/>\n",
              "    </g>\n",
              "</svg>\n",
              "  </button>\n",
              "\n",
              "<style>\n",
              "  .colab-df-quickchart {\n",
              "      --bg-color: #E8F0FE;\n",
              "      --fill-color: #1967D2;\n",
              "      --hover-bg-color: #E2EBFA;\n",
              "      --hover-fill-color: #174EA6;\n",
              "      --disabled-fill-color: #AAA;\n",
              "      --disabled-bg-color: #DDD;\n",
              "  }\n",
              "\n",
              "  [theme=dark] .colab-df-quickchart {\n",
              "      --bg-color: #3B4455;\n",
              "      --fill-color: #D2E3FC;\n",
              "      --hover-bg-color: #434B5C;\n",
              "      --hover-fill-color: #FFFFFF;\n",
              "      --disabled-bg-color: #3B4455;\n",
              "      --disabled-fill-color: #666;\n",
              "  }\n",
              "\n",
              "  .colab-df-quickchart {\n",
              "    background-color: var(--bg-color);\n",
              "    border: none;\n",
              "    border-radius: 50%;\n",
              "    cursor: pointer;\n",
              "    display: none;\n",
              "    fill: var(--fill-color);\n",
              "    height: 32px;\n",
              "    padding: 0;\n",
              "    width: 32px;\n",
              "  }\n",
              "\n",
              "  .colab-df-quickchart:hover {\n",
              "    background-color: var(--hover-bg-color);\n",
              "    box-shadow: 0 1px 2px rgba(60, 64, 67, 0.3), 0 1px 3px 1px rgba(60, 64, 67, 0.15);\n",
              "    fill: var(--button-hover-fill-color);\n",
              "  }\n",
              "\n",
              "  .colab-df-quickchart-complete:disabled,\n",
              "  .colab-df-quickchart-complete:disabled:hover {\n",
              "    background-color: var(--disabled-bg-color);\n",
              "    fill: var(--disabled-fill-color);\n",
              "    box-shadow: none;\n",
              "  }\n",
              "\n",
              "  .colab-df-spinner {\n",
              "    border: 2px solid var(--fill-color);\n",
              "    border-color: transparent;\n",
              "    border-bottom-color: var(--fill-color);\n",
              "    animation:\n",
              "      spin 1s steps(1) infinite;\n",
              "  }\n",
              "\n",
              "  @keyframes spin {\n",
              "    0% {\n",
              "      border-color: transparent;\n",
              "      border-bottom-color: var(--fill-color);\n",
              "      border-left-color: var(--fill-color);\n",
              "    }\n",
              "    20% {\n",
              "      border-color: transparent;\n",
              "      border-left-color: var(--fill-color);\n",
              "      border-top-color: var(--fill-color);\n",
              "    }\n",
              "    30% {\n",
              "      border-color: transparent;\n",
              "      border-left-color: var(--fill-color);\n",
              "      border-top-color: var(--fill-color);\n",
              "      border-right-color: var(--fill-color);\n",
              "    }\n",
              "    40% {\n",
              "      border-color: transparent;\n",
              "      border-right-color: var(--fill-color);\n",
              "      border-top-color: var(--fill-color);\n",
              "    }\n",
              "    60% {\n",
              "      border-color: transparent;\n",
              "      border-right-color: var(--fill-color);\n",
              "    }\n",
              "    80% {\n",
              "      border-color: transparent;\n",
              "      border-right-color: var(--fill-color);\n",
              "      border-bottom-color: var(--fill-color);\n",
              "    }\n",
              "    90% {\n",
              "      border-color: transparent;\n",
              "      border-bottom-color: var(--fill-color);\n",
              "    }\n",
              "  }\n",
              "</style>\n",
              "\n",
              "  <script>\n",
              "    async function quickchart(key) {\n",
              "      const quickchartButtonEl =\n",
              "        document.querySelector('#' + key + ' button');\n",
              "      quickchartButtonEl.disabled = true;  // To prevent multiple clicks.\n",
              "      quickchartButtonEl.classList.add('colab-df-spinner');\n",
              "      try {\n",
              "        const charts = await google.colab.kernel.invokeFunction(\n",
              "            'suggestCharts', [key], {});\n",
              "      } catch (error) {\n",
              "        console.error('Error during call to suggestCharts:', error);\n",
              "      }\n",
              "      quickchartButtonEl.classList.remove('colab-df-spinner');\n",
              "      quickchartButtonEl.classList.add('colab-df-quickchart-complete');\n",
              "    }\n",
              "    (() => {\n",
              "      let quickchartButtonEl =\n",
              "        document.querySelector('#df-40879b84-bce1-4d8d-8659-e1b34702a76c button');\n",
              "      quickchartButtonEl.style.display =\n",
              "        google.colab.kernel.accessAllowed ? 'block' : 'none';\n",
              "    })();\n",
              "  </script>\n",
              "</div>\n",
              "    </div>\n",
              "  </div>\n"
            ]
          },
          "metadata": {},
          "execution_count": 5
        }
      ]
    },
    {
      "cell_type": "markdown",
      "source": [
        "## Menampilkan Jumlah Data dalam kategori"
      ],
      "metadata": {
        "id": "9x6BiDqccD8t"
      }
    },
    {
      "cell_type": "markdown",
      "source": [
        "1. Menggunakan len dan df[df['Kategori'] == ...]: untuk menghitung jumlah baris (data) yang memiliki nilai tertentu di kolom 'Kategori'.\n",
        "2. print : mencetak jumlah data untuk masing-masing kategori."
      ],
      "metadata": {
        "id": "1s5F8iRAcQI5"
      }
    },
    {
      "cell_type": "code",
      "source": [
        "# Menampilkan jumlah data untuk kategori tertentu\n",
        "jumlah_sport = len(df[df['Kategori'] == 'Sport'])\n",
        "jumlah_pemilu = len(df[df['Kategori'] == 'Pemilu'])\n",
        "jumlah_lifestyle = len(df[df['Kategori'] == 'Lifestyle'])\n",
        "\n",
        "# Menampilkan hasil\n",
        "print(f\"Jumlah data untuk Sport: {jumlah_sport}\")\n",
        "print(f\"Jumlah data untuk Pemilu: {jumlah_pemilu}\")\n",
        "print(f\"Jumlah data untuk Lifestyle: {jumlah_lifestyle}\")\n"
      ],
      "metadata": {
        "colab": {
          "base_uri": "https://localhost:8080/"
        },
        "id": "iS9B_YlO7_ns",
        "outputId": "316ea508-1ced-4de7-eccd-24ed64371a96"
      },
      "execution_count": 6,
      "outputs": [
        {
          "output_type": "stream",
          "name": "stdout",
          "text": [
            "Jumlah data untuk Sport: 300\n",
            "Jumlah data untuk Pemilu: 300\n",
            "Jumlah data untuk Lifestyle: 300\n"
          ]
        }
      ]
    }
  ]
}